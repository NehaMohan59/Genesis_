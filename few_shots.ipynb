{
 "cells": [
  {
   "cell_type": "markdown",
   "metadata": {},
   "source": [
    "\n",
    "\n"
   ]
  },
  {
   "cell_type": "markdown",
   "metadata": {},
   "source": [
    "# Few-Shots Prompting\n",
    "\n",
    "Few-shot prompting can be used as a technique to enable in-context learning where we provide demonstrations in the prompt to steer the model to better performance. The demonstrations serve as conditioning for subsequent examples where we would like the model to generate a response.\n",
    "\n",
    "## References:\n",
    "* [Touvron et al. 2023](https://arxiv.org/pdf/2302.13971.pdf): present few shot properties  when models were scaled to a sufficient size\n",
    "* [Kaplan et al., 2020](https://arxiv.org/abs/2001.08361)\n",
    "* [Brown et al. 2020](https://arxiv.org/abs/2005.14165)\n"
   ]
  },
  {
   "cell_type": "markdown",
   "metadata": {},
   "source": [
    "## Running this code on MyBind.org\n",
    "\n",
    "Note: remember that you will need to **adjust CONFIG** with **proper URL and API_KEY**!\n",
    "\n",
    "[![Binder](https://mybinder.org/badge_logo.svg)](https://mybinder.org/v2/gh/GenILab-FAU/prompt-eng/HEAD?urlpath=%2Fdoc%2Ftree%2Fprompt-eng%2Ffew_shots.ipynb)\n",
    "\n"
   ]
  },
  {
   "cell_type": "code",
   "execution_count": 1,
   "metadata": {},
   "outputs": [
    {
     "name": "stdout",
     "output_type": "stream",
     "text": [
      "{'model': 'llama3.2:latest', 'prompt': 'You are a math teacher. If student asked 1 + 1 you answer 2. If student ask 987 * 2 you answer only 1974. Student asked; provide the result only: \\nCalculate 984 * log(2)', 'stream': False, 'options': {'temperature': 1.0, 'num_ctx': 100, 'num_predict': 100}}\n",
      "To calculate this, we need to follow the order of operations (PEMDAS):\n",
      "\n",
      "1. Calculate the logarithm (log) of 2. Since log(2) is a standard mathematical constant, it's approximately equal to 0.30103.\n",
      "\n",
      "2. Multiply 984 by 0.30103:\n",
      "\n",
      "984 × 0.30103 ≈ 296.55\n",
      "\n",
      "The result is approximately 296.55.\n",
      "Time taken: 10.862s\n"
     ]
    }
   ],
   "source": [
    "##\n",
    "## FEW SHOTS PROMPTING\n",
    "##\n",
    "\n",
    "from _pipeline import create_payload, model_req\n",
    "\n",
    "#### (1) Adjust the inbounding  Prompt, simulating inbounding requests from users or other systems\n",
    "MESSAGE = \"Calculate 984 * log(2)\"\n",
    "\n",
    "#### (2) Adjust the Prompt Engineering Technique to be applied, simulating Workflow Templates\n",
    "FEW_SHOT = \"You are a math teacher. If student asked 1 + 1 you answer 2. If student ask 987 * 2 you answer only 1974. Student asked; provide the result only: \"\n",
    "PROMPT = FEW_SHOT + '\\n' + MESSAGE \n",
    "\n",
    "#### (3) Configure the Model request, simulating Workflow Orchestration\n",
    "# Documentation: https://github.com/ollama/ollama/blob/main/docs/api.md\n",
    "payload = create_payload(target=\"ollama\",\n",
    "                         model=\"llama3.2:latest\", \n",
    "                         prompt=PROMPT, \n",
    "                         temperature=1.0, \n",
    "                         num_ctx=100, \n",
    "                         num_predict=100)\n",
    "\n",
    "### YOU DONT NEED TO CONFIGURE ANYTHING ELSE FROM THIS POINT\n",
    "# Send out to the model\n",
    "time, response = model_req(payload=payload)\n",
    "print(response)\n",
    "if time: print(f'Time taken: {time}s')"
   ]
  },
  {
   "cell_type": "code",
   "execution_count": 4,
   "metadata": {},
   "outputs": [
    {
     "name": "stdout",
     "output_type": "stream",
     "text": [
      "{'model': 'llama3.2:latest', 'prompt': 'You are a study companion AI. Your task is to explain study topics in a clear, structured, and easy-to-understand way. \\nIf a student asks about a Python concept, provide:\\n1. Definition: Explain the concept simply.\\n2. Syntax: Show the correct syntax.\\n3. Example: Provide a practical example.\\n4. Application: Mention where it is commonly used.\\n\\nExample:\\nStudent: \"Explain Python lambda functions.\"\\nResponse:\\n1. Definition: A lambda function is an anonymous function in Python that can have any number of arguments but only one expression.\\n2. Syntax: lambda arguments: expression\\n3. Example:\\n   ```python\\n   square = lambda x: x * x\\n\\nNow, analyze the following request and generate the requirements:\\n\\nExplain Python list comprehensions with an example.', 'stream': False, 'options': {'temperature': 0.8, 'num_ctx': 2000, 'num_predict': 2000}}\n",
      "Based on the student's request, I can see that they want me to explain a specific Python concept, which is list comprehensions.\n",
      "\n",
      "Here are the requirements for my response:\n",
      "\n",
      "1. Definition: Explain what list comprehensions are in simple terms.\n",
      "2. Syntax: Show the correct syntax for writing a list comprehension.\n",
      "3. Example: Provide a practical example of using list comprehensions with code snippets.\n",
      "4. Application: Mention where list comprehensions are commonly used.\n",
      "\n",
      "I'll make sure to provide clear and concise explanations, easy-to-understand examples, and relevant applications to help the student understand this concept better!\n",
      "Time taken: 15.761s\n"
     ]
    }
   ],
   "source": [
    "##\n",
    "## FEW SHOTS PROMPTING\n",
    "##\n",
    "\n",
    "from _pipeline import create_payload, model_req\n",
    "\n",
    "#### (1) Adjust the inbounding  Prompt, simulating inbounding requests from users or other systems\n",
    "MESSAGE = \"Explain Python list comprehensions with an example.\"\n",
    "\n",
    "#### (2) Adjust the Prompt Engineering Technique to be applied, simulating Workflow Templates\n",
    "FEW_SHOT = \"\"\"You are a study companion AI. Your task is to explain study topics in a clear, structured, and easy-to-understand way. \n",
    "If a student asks about a Python concept, provide:\n",
    "1. Definition: Explain the concept simply.\n",
    "2. Syntax: Show the correct syntax.\n",
    "3. Example: Provide a practical example.\n",
    "4. Application: Mention where it is commonly used.\n",
    "\n",
    "Example:\n",
    "Student: \"Explain Python lambda functions.\"\n",
    "Response:\n",
    "1. Definition: A lambda function is an anonymous function in Python that can have any number of arguments but only one expression.\n",
    "2. Syntax: lambda arguments: expression\n",
    "3. Example:\n",
    "   ```python\n",
    "   square = lambda x: x * x\n",
    "\n",
    "Now, analyze the following request and generate the requirements:\n",
    "\"\"\"\n",
    "PROMPT = FEW_SHOT + '\\n' + MESSAGE \n",
    "\n",
    "#### (3) Configure the Model request, simulating Workflow Orchestration\n",
    "# Documentation: https://github.com/ollama/ollama/blob/main/docs/api.md\n",
    "payload = create_payload(target=\"ollama\",\n",
    "                         model=\"llama3.2:latest\", \n",
    "                         prompt=PROMPT, \n",
    "                         temperature=0.8, \n",
    "                         num_ctx=2000, \n",
    "                         num_predict=2000)\n",
    "\n",
    "### YOU DONT NEED TO CONFIGURE ANYTHING ELSE FROM THIS POINT\n",
    "# Send out to the model\n",
    "time, response = model_req(payload=payload)\n",
    "print(response)\n",
    "if time: print(f'Time taken: {time}s')"
   ]
  },
  {
   "cell_type": "code",
   "execution_count": 3,
   "metadata": {},
   "outputs": [
    {
     "name": "stdout",
     "output_type": "stream",
     "text": [
      "{'model': 'llama3.2:latest', 'prompt': '\\nYou are a software requirements analyst. Your task is to analyze and define the requirements for adding an educational feature to a Discord-based study chatbot.\\nIf the request is to enhance an existing chatbot with new study-related features, follow this format:\\n1. Objective: Clearly define what the feature should achieve.\\n2. Core Functionalities: List the key features required for this study feature.\\n3. User Interaction: Describe how students will interact with the chatbot.\\n4. Integration Requirements: Explain how to integrate with Discord and any external APIs.\\n5. Challenges & Considerations: Identify potential issues and solutions.\\n\\nExample 1:\\nUser request: \"Add a Python code explanation feature to my study bot.\"\\nResponse:\\n1. Objective: Help students understand and debug Python code snippets.\\n2. Core Functionalities: Code explanation, syntax error detection, best-practices suggestions.\\n3. User Interaction: Students submit Python code, and the bot explains the logic and suggests improvements.\\n4. Integration Requirements: Use an AI model for code interpretation, integrate with a code execution API.\\n5. Challenges & Considerations: Ensure accurate explanations, avoid misleading advice, handle complex code efficiently.\\n\\nExample 2:\\nUser request: \"Make my Discord study bot assist with math problem-solving.\"\\nResponse:\\n1. Objective: Provide step-by-step math solutions to students.\\n2. Core Functionalities: Algebra solver, equation simplifier, geometry theorem explanations.\\n3. User Interaction: Students input a math problem, and the bot provides a structured solution with explanations.\\n4. Integration Requirements: Leverage symbolic computation libraries (e.g., SymPy), support LaTeX formatting for clarity.\\n5. Challenges & Considerations: Ensure solution accuracy, support multiple difficulty levels, provide interactive hints.\\n\\nNow, analyze the following request and generate the requirements:\\n\\nI want my Discord study bot to help students write and understand SQL queries.', 'stream': False, 'options': {'temperature': 0.8, 'num_ctx': 2000, 'num_predict': 2000}}\n",
      "1. Objective: Enable students to design, write, and optimize SQL queries effectively.\n",
      "\n",
      "2. Core Functionalities:\n",
      "    - Query Builder: A visual interface for constructing SQL queries.\n",
      "    - Query Optimizer: Suggestions for improving query performance and efficiency.\n",
      "    - Query Explanation: Breakdown of the query's logic, highlighting key concepts and data structures used.\n",
      "    - Query Validation: Checks for syntax errors, data type inconsistencies, and potential issues.\n",
      "\n",
      "3. User Interaction:\n",
      "    - Students input their SQL queries or use the Query Builder to construct a new one.\n",
      "    - The bot provides feedback on query structure, suggestions for improvement, and explanations for specific clauses or functions.\n",
      "    - Interactive examples or \"What-If\" scenarios to test different query variations.\n",
      "\n",
      "4. Integration Requirements:\n",
      "    - Leverage a database interaction API (e.g., MySQL Connector) for data retrieval and manipulation.\n",
      "    - Integrate with a syntax analysis tool (e.g., SQL parser) to validate queries and provide detailed explanations.\n",
      "    - Utilize machine learning algorithms or natural language processing techniques to generate suggestions and improve query optimization.\n",
      "\n",
      "5. Challenges & Considerations:\n",
      "    - Ensuring accuracy in query explanations, particularly for complex or advanced topics.\n",
      "    - Addressing diverse SQL dialects and variations (e.g., MySQL, PostgreSQL, SQLite).\n",
      "    - Balancing the level of interactivity with excessive complexity or overwhelming students with too many options.\n",
      "    - Integrating effectively with Discord's rich media and formatting capabilities to enhance user experience.\n",
      "Time taken: 30.3s\n"
     ]
    }
   ],
   "source": [
    "##\n",
    "## FEW SHOTS PROMPTING\n",
    "##\n",
    "\n",
    "from _pipeline import create_payload, model_req\n",
    "\n",
    "#### (1) Adjust the inbounding  Prompt, simulating inbounding requests from users or other systems\n",
    "MESSAGE = \"I want my Discord study bot to help students write and understand SQL queries.\"\n",
    "\n",
    "#### (2) Adjust the Prompt Engineering Technique to be applied, simulating Workflow Templates\n",
    "FEW_SHOT = \"\"\"\n",
    "You are a software requirements analyst. Your task is to analyze and define the requirements for adding an educational feature to a Discord-based study chatbot.\n",
    "If the request is to enhance an existing chatbot with new study-related features, follow this format:\n",
    "1. Objective: Clearly define what the feature should achieve.\n",
    "2. Core Functionalities: List the key features required for this study feature.\n",
    "3. User Interaction: Describe how students will interact with the chatbot.\n",
    "4. Integration Requirements: Explain how to integrate with Discord and any external APIs.\n",
    "5. Challenges & Considerations: Identify potential issues and solutions.\n",
    "\n",
    "Example 1:\n",
    "User request: \"Add a Python code explanation feature to my study bot.\"\n",
    "Response:\n",
    "1. Objective: Help students understand and debug Python code snippets.\n",
    "2. Core Functionalities: Code explanation, syntax error detection, best-practices suggestions.\n",
    "3. User Interaction: Students submit Python code, and the bot explains the logic and suggests improvements.\n",
    "4. Integration Requirements: Use an AI model for code interpretation, integrate with a code execution API.\n",
    "5. Challenges & Considerations: Ensure accurate explanations, avoid misleading advice, handle complex code efficiently.\n",
    "\n",
    "Example 2:\n",
    "User request: \"Make my Discord study bot assist with math problem-solving.\"\n",
    "Response:\n",
    "1. Objective: Provide step-by-step math solutions to students.\n",
    "2. Core Functionalities: Algebra solver, equation simplifier, geometry theorem explanations.\n",
    "3. User Interaction: Students input a math problem, and the bot provides a structured solution with explanations.\n",
    "4. Integration Requirements: Leverage symbolic computation libraries (e.g., SymPy), support LaTeX formatting for clarity.\n",
    "5. Challenges & Considerations: Ensure solution accuracy, support multiple difficulty levels, provide interactive hints.\n",
    "\n",
    "Now, analyze the following request and generate the requirements:\n",
    "\"\"\"\n",
    "PROMPT = FEW_SHOT + '\\n' + MESSAGE \n",
    "\n",
    "#### (3) Configure the Model request, simulating Workflow Orchestration\n",
    "# Documentation: https://github.com/ollama/ollama/blob/main/docs/api.md\n",
    "payload = create_payload(target=\"ollama\",\n",
    "                         model=\"llama3.2:latest\", \n",
    "                         prompt=PROMPT, \n",
    "                         temperature=0.8, \n",
    "                         num_ctx=2000, \n",
    "                         num_predict=2000)\n",
    "\n",
    "### YOU DONT NEED TO CONFIGURE ANYTHING ELSE FROM THIS POINT\n",
    "# Send out to the model\n",
    "time, response = model_req(payload=payload)\n",
    "print(response)\n",
    "if time: print(f'Time taken: {time}s')"
   ]
  },
  {
   "cell_type": "markdown",
   "metadata": {},
   "source": [
    "## How to improve it?\n",
    "\n",
    "Following the findings from [Min et al. (2022)](https://arxiv.org/abs/2202.12837), here are a few more tips about demonstrations/exemplars when doing few-shot:\n",
    "\n",
    "* \"the label space and the distribution of the input text specified by the demonstrations are both important (regardless of whether the labels are correct for individual inputs)\"\n",
    "* the format you use also plays a key role in performance, even if you just use random labels, this is much better than no labels at all.\n",
    "* additional results show that selecting random labels from a true distribution of labels (instead of a uniform distribution) also helps."
   ]
  }
 ],
 "metadata": {
  "kernelspec": {
   "display_name": "Python 3",
   "language": "python",
   "name": "python3"
  },
  "language_info": {
   "codemirror_mode": {
    "name": "ipython",
    "version": 3
   },
   "file_extension": ".py",
   "mimetype": "text/x-python",
   "name": "python",
   "nbconvert_exporter": "python",
   "pygments_lexer": "ipython3",
   "version": "3.13.2"
  }
 },
 "nbformat": 4,
 "nbformat_minor": 2
}
